{
 "cells": [
  {
   "cell_type": "code",
   "execution_count": 2,
   "id": "bec89cec-a983-4b50-ae86-bf49b21c4d58",
   "metadata": {
    "tags": []
   },
   "outputs": [],
   "source": [
    "import pandas as pd\n",
    "import numpy as np"
   ]
  },
  {
   "cell_type": "code",
   "execution_count": 10,
   "id": "33fb8929-b5f4-496f-b7b0-346dc25ea01b",
   "metadata": {
    "tags": []
   },
   "outputs": [],
   "source": [
    "import tensorflow as tf\n",
    "#from tensorflow.keras.datasets import cifar10\n",
    "from tensorflow.keras.models import Sequential\n",
    "from tensorflow.keras.layers import Conv2D, MaxPooling2D, Flatten, Dense, Dropout, LSTM\n",
    "from tensorflow.keras.utils import to_categorical"
   ]
  },
  {
   "cell_type": "code",
   "execution_count": 3,
   "id": "2c101d1e-35d7-4dc5-9bfd-ddd1404cba70",
   "metadata": {
    "tags": []
   },
   "outputs": [],
   "source": [
    "from tensorflow.keras.layers import Conv1D, MaxPooling1D"
   ]
  },
  {
   "cell_type": "code",
   "execution_count": 88,
   "id": "9eb17b29-057c-4810-acb9-0e0035ecbca4",
   "metadata": {
    "tags": []
   },
   "outputs": [],
   "source": [
    "from sklearn.model_selection import train_test_split\n",
    "from sklearn.metrics import roc_auc_score, matthews_corrcoef\n",
    "from sklearn.preprocessing import MinMaxScaler"
   ]
  },
  {
   "cell_type": "code",
   "execution_count": 89,
   "id": "fff135e8-0ec7-4457-af12-4086e2451cec",
   "metadata": {
    "tags": []
   },
   "outputs": [],
   "source": [
    "from scipy.stats import ks_2samp"
   ]
  },
  {
   "cell_type": "code",
   "execution_count": 4,
   "id": "c847e17d-d5a1-4d76-9ee5-eb695a97fc8a",
   "metadata": {
    "tags": []
   },
   "outputs": [],
   "source": [
    "dados = pd.read_csv('base_tratada.csv')"
   ]
  },
  {
   "cell_type": "code",
   "execution_count": 5,
   "id": "71d81f4a-e049-4f29-aca9-70995971b2ea",
   "metadata": {
    "tags": []
   },
   "outputs": [
    {
     "data": {
      "text/html": [
       "<div>\n",
       "<style scoped>\n",
       "    .dataframe tbody tr th:only-of-type {\n",
       "        vertical-align: middle;\n",
       "    }\n",
       "\n",
       "    .dataframe tbody tr th {\n",
       "        vertical-align: top;\n",
       "    }\n",
       "\n",
       "    .dataframe thead th {\n",
       "        text-align: right;\n",
       "    }\n",
       "</style>\n",
       "<table border=\"1\" class=\"dataframe\">\n",
       "  <thead>\n",
       "    <tr style=\"text-align: right;\">\n",
       "      <th></th>\n",
       "      <th>MAU</th>\n",
       "      <th>TPCLIENT_2</th>\n",
       "      <th>LOCALIZA2_1.0</th>\n",
       "      <th>LOCALIZA2_2.0</th>\n",
       "      <th>TPEMPREG2_(32.0, 130.0]</th>\n",
       "      <th>TPEMPREG2_(130.0, 628.0]</th>\n",
       "      <th>SEXO_M</th>\n",
       "      <th>ESTCIVIL2_1.0</th>\n",
       "      <th>ESTCIVIL2_2.0</th>\n",
       "      <th>SITRESID_P</th>\n",
       "      <th>LIMITE2_(31.0, 118.0]</th>\n",
       "      <th>LIMITE2_(118.0, 99865.0]</th>\n",
       "      <th>TEMPORES2_(4.0, 70.0]</th>\n",
       "      <th>CEP2_1.0</th>\n",
       "      <th>CEP2_2.0</th>\n",
       "      <th>PROFISSAO2_1.0</th>\n",
       "      <th>PROFISSAO2_2.0</th>\n",
       "      <th>ANONASCI2_(50.0, 63.0]</th>\n",
       "      <th>ANONASCI2_(63.0, 74.0]</th>\n",
       "      <th>ANONASCI2_(74.0, 87.0]</th>\n",
       "    </tr>\n",
       "  </thead>\n",
       "  <tbody>\n",
       "    <tr>\n",
       "      <th>7315</th>\n",
       "      <td>1</td>\n",
       "      <td>0</td>\n",
       "      <td>0</td>\n",
       "      <td>1</td>\n",
       "      <td>1</td>\n",
       "      <td>0</td>\n",
       "      <td>1</td>\n",
       "      <td>1</td>\n",
       "      <td>0</td>\n",
       "      <td>1</td>\n",
       "      <td>1</td>\n",
       "      <td>0</td>\n",
       "      <td>1</td>\n",
       "      <td>1</td>\n",
       "      <td>0</td>\n",
       "      <td>0</td>\n",
       "      <td>1</td>\n",
       "      <td>0</td>\n",
       "      <td>1</td>\n",
       "      <td>0</td>\n",
       "    </tr>\n",
       "    <tr>\n",
       "      <th>7316</th>\n",
       "      <td>0</td>\n",
       "      <td>0</td>\n",
       "      <td>0</td>\n",
       "      <td>1</td>\n",
       "      <td>1</td>\n",
       "      <td>0</td>\n",
       "      <td>0</td>\n",
       "      <td>1</td>\n",
       "      <td>0</td>\n",
       "      <td>1</td>\n",
       "      <td>0</td>\n",
       "      <td>0</td>\n",
       "      <td>0</td>\n",
       "      <td>1</td>\n",
       "      <td>0</td>\n",
       "      <td>0</td>\n",
       "      <td>1</td>\n",
       "      <td>0</td>\n",
       "      <td>1</td>\n",
       "      <td>0</td>\n",
       "    </tr>\n",
       "    <tr>\n",
       "      <th>7317</th>\n",
       "      <td>0</td>\n",
       "      <td>0</td>\n",
       "      <td>0</td>\n",
       "      <td>1</td>\n",
       "      <td>0</td>\n",
       "      <td>1</td>\n",
       "      <td>1</td>\n",
       "      <td>1</td>\n",
       "      <td>0</td>\n",
       "      <td>1</td>\n",
       "      <td>1</td>\n",
       "      <td>0</td>\n",
       "      <td>0</td>\n",
       "      <td>1</td>\n",
       "      <td>0</td>\n",
       "      <td>1</td>\n",
       "      <td>0</td>\n",
       "      <td>1</td>\n",
       "      <td>0</td>\n",
       "      <td>0</td>\n",
       "    </tr>\n",
       "    <tr>\n",
       "      <th>7318</th>\n",
       "      <td>0</td>\n",
       "      <td>0</td>\n",
       "      <td>0</td>\n",
       "      <td>1</td>\n",
       "      <td>0</td>\n",
       "      <td>0</td>\n",
       "      <td>1</td>\n",
       "      <td>1</td>\n",
       "      <td>0</td>\n",
       "      <td>1</td>\n",
       "      <td>1</td>\n",
       "      <td>0</td>\n",
       "      <td>1</td>\n",
       "      <td>1</td>\n",
       "      <td>0</td>\n",
       "      <td>0</td>\n",
       "      <td>0</td>\n",
       "      <td>0</td>\n",
       "      <td>1</td>\n",
       "      <td>0</td>\n",
       "    </tr>\n",
       "    <tr>\n",
       "      <th>7319</th>\n",
       "      <td>1</td>\n",
       "      <td>0</td>\n",
       "      <td>0</td>\n",
       "      <td>1</td>\n",
       "      <td>0</td>\n",
       "      <td>0</td>\n",
       "      <td>1</td>\n",
       "      <td>0</td>\n",
       "      <td>0</td>\n",
       "      <td>0</td>\n",
       "      <td>1</td>\n",
       "      <td>0</td>\n",
       "      <td>0</td>\n",
       "      <td>1</td>\n",
       "      <td>0</td>\n",
       "      <td>0</td>\n",
       "      <td>0</td>\n",
       "      <td>0</td>\n",
       "      <td>0</td>\n",
       "      <td>1</td>\n",
       "    </tr>\n",
       "  </tbody>\n",
       "</table>\n",
       "</div>"
      ],
      "text/plain": [
       "      MAU  TPCLIENT_2  LOCALIZA2_1.0  LOCALIZA2_2.0  TPEMPREG2_(32.0, 130.0]  \\\n",
       "7315    1           0              0              1                        1   \n",
       "7316    0           0              0              1                        1   \n",
       "7317    0           0              0              1                        0   \n",
       "7318    0           0              0              1                        0   \n",
       "7319    1           0              0              1                        0   \n",
       "\n",
       "      TPEMPREG2_(130.0, 628.0]  SEXO_M  ESTCIVIL2_1.0  ESTCIVIL2_2.0  \\\n",
       "7315                         0       1              1              0   \n",
       "7316                         0       0              1              0   \n",
       "7317                         1       1              1              0   \n",
       "7318                         0       1              1              0   \n",
       "7319                         0       1              0              0   \n",
       "\n",
       "      SITRESID_P  LIMITE2_(31.0, 118.0]  LIMITE2_(118.0, 99865.0]  \\\n",
       "7315           1                      1                         0   \n",
       "7316           1                      0                         0   \n",
       "7317           1                      1                         0   \n",
       "7318           1                      1                         0   \n",
       "7319           0                      1                         0   \n",
       "\n",
       "      TEMPORES2_(4.0, 70.0]  CEP2_1.0  CEP2_2.0  PROFISSAO2_1.0  \\\n",
       "7315                      1         1         0               0   \n",
       "7316                      0         1         0               0   \n",
       "7317                      0         1         0               1   \n",
       "7318                      1         1         0               0   \n",
       "7319                      0         1         0               0   \n",
       "\n",
       "      PROFISSAO2_2.0  ANONASCI2_(50.0, 63.0]  ANONASCI2_(63.0, 74.0]  \\\n",
       "7315               1                       0                       1   \n",
       "7316               1                       0                       1   \n",
       "7317               0                       1                       0   \n",
       "7318               0                       0                       1   \n",
       "7319               0                       0                       0   \n",
       "\n",
       "      ANONASCI2_(74.0, 87.0]  \n",
       "7315                       0  \n",
       "7316                       0  \n",
       "7317                       0  \n",
       "7318                       0  \n",
       "7319                       1  "
      ]
     },
     "execution_count": 5,
     "metadata": {},
     "output_type": "execute_result"
    }
   ],
   "source": [
    "dados.tail()"
   ]
  },
  {
   "cell_type": "code",
   "execution_count": 6,
   "id": "d8ea2970-4d65-4ae5-8b4e-f6889582c5cd",
   "metadata": {
    "tags": []
   },
   "outputs": [
    {
     "data": {
      "text/plain": [
       "(7320, 20)"
      ]
     },
     "execution_count": 6,
     "metadata": {},
     "output_type": "execute_result"
    }
   ],
   "source": [
    "dados.shape"
   ]
  },
  {
   "cell_type": "code",
   "execution_count": 16,
   "id": "f78e39d7-389e-4b98-a6ac-a4d2b1b380b7",
   "metadata": {
    "collapsed": true,
    "jupyter": {
     "outputs_hidden": true
    },
    "tags": []
   },
   "outputs": [
    {
     "data": {
      "text/html": [
       "<div>\n",
       "<style scoped>\n",
       "    .dataframe tbody tr th:only-of-type {\n",
       "        vertical-align: middle;\n",
       "    }\n",
       "\n",
       "    .dataframe tbody tr th {\n",
       "        vertical-align: top;\n",
       "    }\n",
       "\n",
       "    .dataframe thead th {\n",
       "        text-align: right;\n",
       "    }\n",
       "</style>\n",
       "<table border=\"1\" class=\"dataframe\">\n",
       "  <thead>\n",
       "    <tr style=\"text-align: right;\">\n",
       "      <th></th>\n",
       "      <th>TPCLIENT_2</th>\n",
       "      <th>LOCALIZA2_1.0</th>\n",
       "      <th>LOCALIZA2_2.0</th>\n",
       "      <th>TPEMPREG2_(32.0, 130.0]</th>\n",
       "      <th>TPEMPREG2_(130.0, 628.0]</th>\n",
       "      <th>SEXO_M</th>\n",
       "      <th>ESTCIVIL2_1.0</th>\n",
       "      <th>ESTCIVIL2_2.0</th>\n",
       "      <th>SITRESID_P</th>\n",
       "      <th>LIMITE2_(31.0, 118.0]</th>\n",
       "      <th>LIMITE2_(118.0, 99865.0]</th>\n",
       "      <th>TEMPORES2_(4.0, 70.0]</th>\n",
       "      <th>CEP2_1.0</th>\n",
       "      <th>CEP2_2.0</th>\n",
       "      <th>PROFISSAO2_1.0</th>\n",
       "      <th>PROFISSAO2_2.0</th>\n",
       "      <th>ANONASCI2_(50.0, 63.0]</th>\n",
       "      <th>ANONASCI2_(63.0, 74.0]</th>\n",
       "    </tr>\n",
       "  </thead>\n",
       "  <tbody>\n",
       "    <tr>\n",
       "      <th>0</th>\n",
       "      <td>1</td>\n",
       "      <td>0</td>\n",
       "      <td>0</td>\n",
       "      <td>0</td>\n",
       "      <td>0</td>\n",
       "      <td>0</td>\n",
       "      <td>0</td>\n",
       "      <td>0</td>\n",
       "      <td>1</td>\n",
       "      <td>1</td>\n",
       "      <td>0</td>\n",
       "      <td>0</td>\n",
       "      <td>1</td>\n",
       "      <td>0</td>\n",
       "      <td>0</td>\n",
       "      <td>0</td>\n",
       "      <td>0</td>\n",
       "      <td>0</td>\n",
       "    </tr>\n",
       "    <tr>\n",
       "      <th>1</th>\n",
       "      <td>1</td>\n",
       "      <td>1</td>\n",
       "      <td>0</td>\n",
       "      <td>0</td>\n",
       "      <td>0</td>\n",
       "      <td>1</td>\n",
       "      <td>0</td>\n",
       "      <td>0</td>\n",
       "      <td>1</td>\n",
       "      <td>1</td>\n",
       "      <td>0</td>\n",
       "      <td>1</td>\n",
       "      <td>0</td>\n",
       "      <td>1</td>\n",
       "      <td>1</td>\n",
       "      <td>0</td>\n",
       "      <td>0</td>\n",
       "      <td>0</td>\n",
       "    </tr>\n",
       "    <tr>\n",
       "      <th>2</th>\n",
       "      <td>0</td>\n",
       "      <td>1</td>\n",
       "      <td>0</td>\n",
       "      <td>1</td>\n",
       "      <td>0</td>\n",
       "      <td>0</td>\n",
       "      <td>0</td>\n",
       "      <td>0</td>\n",
       "      <td>1</td>\n",
       "      <td>1</td>\n",
       "      <td>0</td>\n",
       "      <td>1</td>\n",
       "      <td>0</td>\n",
       "      <td>1</td>\n",
       "      <td>0</td>\n",
       "      <td>1</td>\n",
       "      <td>0</td>\n",
       "      <td>0</td>\n",
       "    </tr>\n",
       "    <tr>\n",
       "      <th>3</th>\n",
       "      <td>0</td>\n",
       "      <td>1</td>\n",
       "      <td>0</td>\n",
       "      <td>0</td>\n",
       "      <td>1</td>\n",
       "      <td>0</td>\n",
       "      <td>0</td>\n",
       "      <td>1</td>\n",
       "      <td>1</td>\n",
       "      <td>1</td>\n",
       "      <td>0</td>\n",
       "      <td>1</td>\n",
       "      <td>0</td>\n",
       "      <td>1</td>\n",
       "      <td>0</td>\n",
       "      <td>0</td>\n",
       "      <td>0</td>\n",
       "      <td>0</td>\n",
       "    </tr>\n",
       "    <tr>\n",
       "      <th>4</th>\n",
       "      <td>0</td>\n",
       "      <td>1</td>\n",
       "      <td>0</td>\n",
       "      <td>1</td>\n",
       "      <td>0</td>\n",
       "      <td>0</td>\n",
       "      <td>0</td>\n",
       "      <td>1</td>\n",
       "      <td>1</td>\n",
       "      <td>1</td>\n",
       "      <td>0</td>\n",
       "      <td>1</td>\n",
       "      <td>0</td>\n",
       "      <td>1</td>\n",
       "      <td>0</td>\n",
       "      <td>1</td>\n",
       "      <td>1</td>\n",
       "      <td>0</td>\n",
       "    </tr>\n",
       "    <tr>\n",
       "      <th>...</th>\n",
       "      <td>...</td>\n",
       "      <td>...</td>\n",
       "      <td>...</td>\n",
       "      <td>...</td>\n",
       "      <td>...</td>\n",
       "      <td>...</td>\n",
       "      <td>...</td>\n",
       "      <td>...</td>\n",
       "      <td>...</td>\n",
       "      <td>...</td>\n",
       "      <td>...</td>\n",
       "      <td>...</td>\n",
       "      <td>...</td>\n",
       "      <td>...</td>\n",
       "      <td>...</td>\n",
       "      <td>...</td>\n",
       "      <td>...</td>\n",
       "      <td>...</td>\n",
       "    </tr>\n",
       "    <tr>\n",
       "      <th>7315</th>\n",
       "      <td>0</td>\n",
       "      <td>0</td>\n",
       "      <td>1</td>\n",
       "      <td>1</td>\n",
       "      <td>0</td>\n",
       "      <td>1</td>\n",
       "      <td>1</td>\n",
       "      <td>0</td>\n",
       "      <td>1</td>\n",
       "      <td>1</td>\n",
       "      <td>0</td>\n",
       "      <td>1</td>\n",
       "      <td>1</td>\n",
       "      <td>0</td>\n",
       "      <td>0</td>\n",
       "      <td>1</td>\n",
       "      <td>0</td>\n",
       "      <td>1</td>\n",
       "    </tr>\n",
       "    <tr>\n",
       "      <th>7316</th>\n",
       "      <td>0</td>\n",
       "      <td>0</td>\n",
       "      <td>1</td>\n",
       "      <td>1</td>\n",
       "      <td>0</td>\n",
       "      <td>0</td>\n",
       "      <td>1</td>\n",
       "      <td>0</td>\n",
       "      <td>1</td>\n",
       "      <td>0</td>\n",
       "      <td>0</td>\n",
       "      <td>0</td>\n",
       "      <td>1</td>\n",
       "      <td>0</td>\n",
       "      <td>0</td>\n",
       "      <td>1</td>\n",
       "      <td>0</td>\n",
       "      <td>1</td>\n",
       "    </tr>\n",
       "    <tr>\n",
       "      <th>7317</th>\n",
       "      <td>0</td>\n",
       "      <td>0</td>\n",
       "      <td>1</td>\n",
       "      <td>0</td>\n",
       "      <td>1</td>\n",
       "      <td>1</td>\n",
       "      <td>1</td>\n",
       "      <td>0</td>\n",
       "      <td>1</td>\n",
       "      <td>1</td>\n",
       "      <td>0</td>\n",
       "      <td>0</td>\n",
       "      <td>1</td>\n",
       "      <td>0</td>\n",
       "      <td>1</td>\n",
       "      <td>0</td>\n",
       "      <td>1</td>\n",
       "      <td>0</td>\n",
       "    </tr>\n",
       "    <tr>\n",
       "      <th>7318</th>\n",
       "      <td>0</td>\n",
       "      <td>0</td>\n",
       "      <td>1</td>\n",
       "      <td>0</td>\n",
       "      <td>0</td>\n",
       "      <td>1</td>\n",
       "      <td>1</td>\n",
       "      <td>0</td>\n",
       "      <td>1</td>\n",
       "      <td>1</td>\n",
       "      <td>0</td>\n",
       "      <td>1</td>\n",
       "      <td>1</td>\n",
       "      <td>0</td>\n",
       "      <td>0</td>\n",
       "      <td>0</td>\n",
       "      <td>0</td>\n",
       "      <td>1</td>\n",
       "    </tr>\n",
       "    <tr>\n",
       "      <th>7319</th>\n",
       "      <td>0</td>\n",
       "      <td>0</td>\n",
       "      <td>1</td>\n",
       "      <td>0</td>\n",
       "      <td>0</td>\n",
       "      <td>1</td>\n",
       "      <td>0</td>\n",
       "      <td>0</td>\n",
       "      <td>0</td>\n",
       "      <td>1</td>\n",
       "      <td>0</td>\n",
       "      <td>0</td>\n",
       "      <td>1</td>\n",
       "      <td>0</td>\n",
       "      <td>0</td>\n",
       "      <td>0</td>\n",
       "      <td>0</td>\n",
       "      <td>0</td>\n",
       "    </tr>\n",
       "  </tbody>\n",
       "</table>\n",
       "<p>7320 rows × 18 columns</p>\n",
       "</div>"
      ],
      "text/plain": [
       "      TPCLIENT_2  LOCALIZA2_1.0  LOCALIZA2_2.0  TPEMPREG2_(32.0, 130.0]  \\\n",
       "0              1              0              0                        0   \n",
       "1              1              1              0                        0   \n",
       "2              0              1              0                        1   \n",
       "3              0              1              0                        0   \n",
       "4              0              1              0                        1   \n",
       "...          ...            ...            ...                      ...   \n",
       "7315           0              0              1                        1   \n",
       "7316           0              0              1                        1   \n",
       "7317           0              0              1                        0   \n",
       "7318           0              0              1                        0   \n",
       "7319           0              0              1                        0   \n",
       "\n",
       "      TPEMPREG2_(130.0, 628.0]  SEXO_M  ESTCIVIL2_1.0  ESTCIVIL2_2.0  \\\n",
       "0                            0       0              0              0   \n",
       "1                            0       1              0              0   \n",
       "2                            0       0              0              0   \n",
       "3                            1       0              0              1   \n",
       "4                            0       0              0              1   \n",
       "...                        ...     ...            ...            ...   \n",
       "7315                         0       1              1              0   \n",
       "7316                         0       0              1              0   \n",
       "7317                         1       1              1              0   \n",
       "7318                         0       1              1              0   \n",
       "7319                         0       1              0              0   \n",
       "\n",
       "      SITRESID_P  LIMITE2_(31.0, 118.0]  LIMITE2_(118.0, 99865.0]  \\\n",
       "0              1                      1                         0   \n",
       "1              1                      1                         0   \n",
       "2              1                      1                         0   \n",
       "3              1                      1                         0   \n",
       "4              1                      1                         0   \n",
       "...          ...                    ...                       ...   \n",
       "7315           1                      1                         0   \n",
       "7316           1                      0                         0   \n",
       "7317           1                      1                         0   \n",
       "7318           1                      1                         0   \n",
       "7319           0                      1                         0   \n",
       "\n",
       "      TEMPORES2_(4.0, 70.0]  CEP2_1.0  CEP2_2.0  PROFISSAO2_1.0  \\\n",
       "0                         0         1         0               0   \n",
       "1                         1         0         1               1   \n",
       "2                         1         0         1               0   \n",
       "3                         1         0         1               0   \n",
       "4                         1         0         1               0   \n",
       "...                     ...       ...       ...             ...   \n",
       "7315                      1         1         0               0   \n",
       "7316                      0         1         0               0   \n",
       "7317                      0         1         0               1   \n",
       "7318                      1         1         0               0   \n",
       "7319                      0         1         0               0   \n",
       "\n",
       "      PROFISSAO2_2.0  ANONASCI2_(50.0, 63.0]  ANONASCI2_(63.0, 74.0]  \n",
       "0                  0                       0                       0  \n",
       "1                  0                       0                       0  \n",
       "2                  1                       0                       0  \n",
       "3                  0                       0                       0  \n",
       "4                  1                       1                       0  \n",
       "...              ...                     ...                     ...  \n",
       "7315               1                       0                       1  \n",
       "7316               1                       0                       1  \n",
       "7317               0                       1                       0  \n",
       "7318               0                       0                       1  \n",
       "7319               0                       0                       0  \n",
       "\n",
       "[7320 rows x 18 columns]"
      ]
     },
     "execution_count": 16,
     "metadata": {},
     "output_type": "execute_result"
    }
   ],
   "source": [
    "dados.iloc[:,1:19]"
   ]
  },
  {
   "cell_type": "code",
   "execution_count": 30,
   "id": "072bdd75-3feb-47a2-99d1-efb5b92c2eb3",
   "metadata": {
    "tags": []
   },
   "outputs": [],
   "source": [
    "X_train, X_test, y_train, y_test = train_test_split(dados.iloc[:,1:20], dados['MAU'] , test_size=0.3 , random_state=42)"
   ]
  },
  {
   "cell_type": "code",
   "execution_count": 32,
   "id": "3e3788d0-8f78-4109-bc02-7b742fb7a1c1",
   "metadata": {
    "tags": []
   },
   "outputs": [],
   "source": [
    "# Standardize features\n",
    "scaler = MinMaxScaler()\n",
    "x_train_scaled = scaler.fit_transform(X_train)\n",
    "x_test_scaled = scaler.transform(X_test)\n",
    "\n",
    "# Reshape the input for LSTM\n",
    "x_train_reshaped = x_train_scaled.reshape(x_train_scaled.shape[0], 1, x_train_scaled.shape[1])\n",
    "x_test_reshaped = x_test_scaled.reshape(x_test_scaled.shape[0], 1, x_test_scaled.shape[1])"
   ]
  },
  {
   "cell_type": "code",
   "execution_count": 82,
   "id": "c493e61d-809f-4309-bfef-ee0d25561e0b",
   "metadata": {
    "tags": []
   },
   "outputs": [
    {
     "name": "stdout",
     "output_type": "stream",
     "text": [
      "WARNING:tensorflow:Layer lstm_17 will not use cuDNN kernels since it doesn't meet the criteria. It will use a generic GPU kernel as fallback when running on GPU.\n"
     ]
    }
   ],
   "source": [
    "# Build the LSTM model\n",
    "model = Sequential()\n",
    "model.add(LSTM(32, input_shape=(1, 19), activation='relu'))\n",
    "model.add(Dropout(0.5))\n",
    "model.add(Dense(1, activation='sigmoid'))\n",
    "\n",
    "model.compile(optimizer='adam',\n",
    "              loss='binary_crossentropy',\n",
    "              metrics=['accuracy'])"
   ]
  },
  {
   "cell_type": "code",
   "execution_count": 83,
   "id": "8aee5747-270d-4456-a4ef-72877f954670",
   "metadata": {
    "tags": []
   },
   "outputs": [
    {
     "name": "stdout",
     "output_type": "stream",
     "text": [
      "Epoch 1/10\n",
      "81/81 [==============================] - 1s 8ms/step - loss: 0.6457 - accuracy: 0.6673\n",
      "Epoch 2/10\n",
      "81/81 [==============================] - 1s 8ms/step - loss: 0.6082 - accuracy: 0.6920\n",
      "Epoch 3/10\n",
      "81/81 [==============================] - 1s 8ms/step - loss: 0.5962 - accuracy: 0.6926\n",
      "Epoch 4/10\n",
      "81/81 [==============================] - 1s 9ms/step - loss: 0.5931 - accuracy: 0.6963\n",
      "Epoch 5/10\n",
      "81/81 [==============================] - 1s 9ms/step - loss: 0.5882 - accuracy: 0.6991\n",
      "Epoch 6/10\n",
      "81/81 [==============================] - 1s 8ms/step - loss: 0.5890 - accuracy: 0.7012\n",
      "Epoch 7/10\n",
      "81/81 [==============================] - 1s 8ms/step - loss: 0.5831 - accuracy: 0.7045\n",
      "Epoch 8/10\n",
      "81/81 [==============================] - 1s 8ms/step - loss: 0.5834 - accuracy: 0.7082\n",
      "Epoch 9/10\n",
      "81/81 [==============================] - 1s 8ms/step - loss: 0.5804 - accuracy: 0.7065\n",
      "Epoch 10/10\n",
      "81/81 [==============================] - 1s 8ms/step - loss: 0.5811 - accuracy: 0.7082\n"
     ]
    },
    {
     "data": {
      "text/plain": [
       "<keras.callbacks.History at 0x288fc936670>"
      ]
     },
     "execution_count": 83,
     "metadata": {},
     "output_type": "execute_result"
    }
   ],
   "source": [
    "# Train the model\n",
    "model.fit(x_train_reshaped, y_train, epochs=10, batch_size=64)"
   ]
  },
  {
   "cell_type": "code",
   "execution_count": 84,
   "id": "8192f76f-896a-4481-ad35-f44723ec6094",
   "metadata": {
    "tags": []
   },
   "outputs": [
    {
     "name": "stdout",
     "output_type": "stream",
     "text": [
      "69/69 [==============================] - 0s 3ms/step - loss: 0.5592 - accuracy: 0.7104\n",
      "Test accuracy: 0.7103825211524963\n"
     ]
    }
   ],
   "source": [
    "test_loss, test_acc = model.evaluate(x_test_reshaped, y_test)\n",
    "print('Test accuracy:', test_acc)"
   ]
  },
  {
   "cell_type": "code",
   "execution_count": null,
   "id": "173a3dca-2215-43de-a9ab-6a927edea40a",
   "metadata": {},
   "outputs": [],
   "source": []
  },
  {
   "cell_type": "code",
   "execution_count": null,
   "id": "56f4924f-1614-4e36-be04-3346afcb087d",
   "metadata": {},
   "outputs": [],
   "source": []
  },
  {
   "cell_type": "code",
   "execution_count": 85,
   "id": "ebf782d6-947a-49b4-b7c5-7ae8a1675fb9",
   "metadata": {
    "tags": []
   },
   "outputs": [
    {
     "name": "stdout",
     "output_type": "stream",
     "text": [
      "69/69 [==============================] - 0s 2ms/step\n"
     ]
    }
   ],
   "source": [
    "predictions = model.predict(x_test_reshaped)"
   ]
  },
  {
   "cell_type": "code",
   "execution_count": 86,
   "id": "a15990c9-53df-44cf-a7c2-0959bd86ea92",
   "metadata": {
    "tags": []
   },
   "outputs": [
    {
     "data": {
      "text/plain": [
       "0.6947867685654326"
      ]
     },
     "execution_count": 86,
     "metadata": {},
     "output_type": "execute_result"
    }
   ],
   "source": [
    "roc_auc_score(y_test,  predictions.reshape(-1))"
   ]
  },
  {
   "cell_type": "code",
   "execution_count": 102,
   "id": "17f4f436-c11d-48ce-a5fa-bc9fb4f4ee03",
   "metadata": {
    "tags": []
   },
   "outputs": [],
   "source": [
    "y_preds_bin = pd.Series(predictions.reshape(-1)).apply(lambda x: 1 if x> 0.32 else 0)"
   ]
  },
  {
   "cell_type": "code",
   "execution_count": 103,
   "id": "02d96477-e006-4394-8a86-215dd9b8b4fe",
   "metadata": {
    "tags": []
   },
   "outputs": [
    {
     "data": {
      "text/plain": [
       "0.2735723560575502"
      ]
     },
     "execution_count": 103,
     "metadata": {},
     "output_type": "execute_result"
    }
   ],
   "source": [
    "matthews_corrcoef(y_test,  y_preds_bin )"
   ]
  },
  {
   "cell_type": "code",
   "execution_count": 107,
   "id": "35e7969b-04e1-402d-8a71-d1ec64a1f56f",
   "metadata": {
    "tags": []
   },
   "outputs": [
    {
     "data": {
      "text/plain": [
       "KstestResult(statistic=0.2995748020673245, pvalue=9.715744499131356e-37, statistic_location=0.31769577, statistic_sign=1)"
      ]
     },
     "execution_count": 107,
     "metadata": {},
     "output_type": "execute_result"
    }
   ],
   "source": [
    "ks_2samp(predictions.reshape(-1)[y_test ==0],predictions.reshape(-1)[y_test ==1])"
   ]
  },
  {
   "cell_type": "code",
   "execution_count": null,
   "id": "91b31e52-8a18-4659-aa28-78b3820d35ba",
   "metadata": {},
   "outputs": [],
   "source": []
  }
 ],
 "metadata": {
  "kernelspec": {
   "display_name": "Python 3 (ipykernel)",
   "language": "python",
   "name": "python3"
  },
  "language_info": {
   "codemirror_mode": {
    "name": "ipython",
    "version": 3
   },
   "file_extension": ".py",
   "mimetype": "text/x-python",
   "name": "python",
   "nbconvert_exporter": "python",
   "pygments_lexer": "ipython3",
   "version": "3.9.18"
  }
 },
 "nbformat": 4,
 "nbformat_minor": 5
}
