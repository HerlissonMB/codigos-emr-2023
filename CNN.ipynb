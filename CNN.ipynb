{
 "cells": [
  {
   "cell_type": "code",
   "execution_count": 1,
   "id": "2a69a677-b355-40e0-b625-dac4bfc7f2cb",
   "metadata": {
    "tags": []
   },
   "outputs": [],
   "source": [
    "import pandas as pd\n",
    "import numpy as np"
   ]
  },
  {
   "cell_type": "code",
   "execution_count": 9,
   "id": "55022a66-7c69-4063-81cc-cda9c158bfd5",
   "metadata": {
    "tags": []
   },
   "outputs": [],
   "source": [
    "import tensorflow as tf\n",
    "from tensorflow.keras.models import Sequential\n",
    "from tensorflow.keras.layers import Conv1D, MaxPooling1D, Flatten, Dense, Dropout, LSTM\n",
    "from tensorflow.keras.utils import to_categorical\n",
    "from tensorflow.keras.wrappers.scikit_learn import KerasClassifier"
   ]
  },
  {
   "cell_type": "code",
   "execution_count": 3,
   "id": "ca6e6bfb-b7c4-47ad-adb4-c116f1f58519",
   "metadata": {
    "tags": []
   },
   "outputs": [],
   "source": [
    "from sklearn.model_selection import train_test_split\n",
    "from sklearn.metrics import roc_auc_score, matthews_corrcoef\n",
    "from sklearn.preprocessing import MinMaxScaler\n",
    "from sklearn.model_selection import GridSearchCV"
   ]
  },
  {
   "cell_type": "code",
   "execution_count": 4,
   "id": "32fba4f4-a3f5-44d7-a2a3-08c59891187b",
   "metadata": {
    "tags": []
   },
   "outputs": [],
   "source": [
    "from scipy.stats import ks_2samp"
   ]
  },
  {
   "cell_type": "code",
   "execution_count": 5,
   "id": "f9f7700f-4f6e-4e15-b7a3-bf20815a8d3c",
   "metadata": {
    "tags": []
   },
   "outputs": [],
   "source": [
    "dados = pd.read_csv('base_tratada.csv')"
   ]
  },
  {
   "cell_type": "code",
   "execution_count": 6,
   "id": "585b877d-1e7d-4a7f-a0da-02083a1d5274",
   "metadata": {
    "tags": []
   },
   "outputs": [
    {
     "data": {
      "text/html": [
       "<div>\n",
       "<style scoped>\n",
       "    .dataframe tbody tr th:only-of-type {\n",
       "        vertical-align: middle;\n",
       "    }\n",
       "\n",
       "    .dataframe tbody tr th {\n",
       "        vertical-align: top;\n",
       "    }\n",
       "\n",
       "    .dataframe thead th {\n",
       "        text-align: right;\n",
       "    }\n",
       "</style>\n",
       "<table border=\"1\" class=\"dataframe\">\n",
       "  <thead>\n",
       "    <tr style=\"text-align: right;\">\n",
       "      <th></th>\n",
       "      <th>MAU</th>\n",
       "      <th>TPCLIENT_2</th>\n",
       "      <th>LOCALIZA2_1.0</th>\n",
       "      <th>LOCALIZA2_2.0</th>\n",
       "      <th>TPEMPREG2_(32.0, 130.0]</th>\n",
       "      <th>TPEMPREG2_(130.0, 628.0]</th>\n",
       "      <th>SEXO_M</th>\n",
       "      <th>ESTCIVIL2_1.0</th>\n",
       "      <th>ESTCIVIL2_2.0</th>\n",
       "      <th>SITRESID_P</th>\n",
       "      <th>LIMITE2_(31.0, 118.0]</th>\n",
       "      <th>LIMITE2_(118.0, 99865.0]</th>\n",
       "      <th>TEMPORES2_(4.0, 70.0]</th>\n",
       "      <th>CEP2_1.0</th>\n",
       "      <th>CEP2_2.0</th>\n",
       "      <th>PROFISSAO2_1.0</th>\n",
       "      <th>PROFISSAO2_2.0</th>\n",
       "      <th>ANONASCI2_(50.0, 63.0]</th>\n",
       "      <th>ANONASCI2_(63.0, 74.0]</th>\n",
       "      <th>ANONASCI2_(74.0, 87.0]</th>\n",
       "    </tr>\n",
       "  </thead>\n",
       "  <tbody>\n",
       "    <tr>\n",
       "      <th>7315</th>\n",
       "      <td>1</td>\n",
       "      <td>0</td>\n",
       "      <td>0</td>\n",
       "      <td>1</td>\n",
       "      <td>1</td>\n",
       "      <td>0</td>\n",
       "      <td>1</td>\n",
       "      <td>1</td>\n",
       "      <td>0</td>\n",
       "      <td>1</td>\n",
       "      <td>1</td>\n",
       "      <td>0</td>\n",
       "      <td>1</td>\n",
       "      <td>1</td>\n",
       "      <td>0</td>\n",
       "      <td>0</td>\n",
       "      <td>1</td>\n",
       "      <td>0</td>\n",
       "      <td>1</td>\n",
       "      <td>0</td>\n",
       "    </tr>\n",
       "    <tr>\n",
       "      <th>7316</th>\n",
       "      <td>0</td>\n",
       "      <td>0</td>\n",
       "      <td>0</td>\n",
       "      <td>1</td>\n",
       "      <td>1</td>\n",
       "      <td>0</td>\n",
       "      <td>0</td>\n",
       "      <td>1</td>\n",
       "      <td>0</td>\n",
       "      <td>1</td>\n",
       "      <td>0</td>\n",
       "      <td>0</td>\n",
       "      <td>0</td>\n",
       "      <td>1</td>\n",
       "      <td>0</td>\n",
       "      <td>0</td>\n",
       "      <td>1</td>\n",
       "      <td>0</td>\n",
       "      <td>1</td>\n",
       "      <td>0</td>\n",
       "    </tr>\n",
       "    <tr>\n",
       "      <th>7317</th>\n",
       "      <td>0</td>\n",
       "      <td>0</td>\n",
       "      <td>0</td>\n",
       "      <td>1</td>\n",
       "      <td>0</td>\n",
       "      <td>1</td>\n",
       "      <td>1</td>\n",
       "      <td>1</td>\n",
       "      <td>0</td>\n",
       "      <td>1</td>\n",
       "      <td>1</td>\n",
       "      <td>0</td>\n",
       "      <td>0</td>\n",
       "      <td>1</td>\n",
       "      <td>0</td>\n",
       "      <td>1</td>\n",
       "      <td>0</td>\n",
       "      <td>1</td>\n",
       "      <td>0</td>\n",
       "      <td>0</td>\n",
       "    </tr>\n",
       "    <tr>\n",
       "      <th>7318</th>\n",
       "      <td>0</td>\n",
       "      <td>0</td>\n",
       "      <td>0</td>\n",
       "      <td>1</td>\n",
       "      <td>0</td>\n",
       "      <td>0</td>\n",
       "      <td>1</td>\n",
       "      <td>1</td>\n",
       "      <td>0</td>\n",
       "      <td>1</td>\n",
       "      <td>1</td>\n",
       "      <td>0</td>\n",
       "      <td>1</td>\n",
       "      <td>1</td>\n",
       "      <td>0</td>\n",
       "      <td>0</td>\n",
       "      <td>0</td>\n",
       "      <td>0</td>\n",
       "      <td>1</td>\n",
       "      <td>0</td>\n",
       "    </tr>\n",
       "    <tr>\n",
       "      <th>7319</th>\n",
       "      <td>1</td>\n",
       "      <td>0</td>\n",
       "      <td>0</td>\n",
       "      <td>1</td>\n",
       "      <td>0</td>\n",
       "      <td>0</td>\n",
       "      <td>1</td>\n",
       "      <td>0</td>\n",
       "      <td>0</td>\n",
       "      <td>0</td>\n",
       "      <td>1</td>\n",
       "      <td>0</td>\n",
       "      <td>0</td>\n",
       "      <td>1</td>\n",
       "      <td>0</td>\n",
       "      <td>0</td>\n",
       "      <td>0</td>\n",
       "      <td>0</td>\n",
       "      <td>0</td>\n",
       "      <td>1</td>\n",
       "    </tr>\n",
       "  </tbody>\n",
       "</table>\n",
       "</div>"
      ],
      "text/plain": [
       "      MAU  TPCLIENT_2  LOCALIZA2_1.0  LOCALIZA2_2.0  TPEMPREG2_(32.0, 130.0]  \\\n",
       "7315    1           0              0              1                        1   \n",
       "7316    0           0              0              1                        1   \n",
       "7317    0           0              0              1                        0   \n",
       "7318    0           0              0              1                        0   \n",
       "7319    1           0              0              1                        0   \n",
       "\n",
       "      TPEMPREG2_(130.0, 628.0]  SEXO_M  ESTCIVIL2_1.0  ESTCIVIL2_2.0  \\\n",
       "7315                         0       1              1              0   \n",
       "7316                         0       0              1              0   \n",
       "7317                         1       1              1              0   \n",
       "7318                         0       1              1              0   \n",
       "7319                         0       1              0              0   \n",
       "\n",
       "      SITRESID_P  LIMITE2_(31.0, 118.0]  LIMITE2_(118.0, 99865.0]  \\\n",
       "7315           1                      1                         0   \n",
       "7316           1                      0                         0   \n",
       "7317           1                      1                         0   \n",
       "7318           1                      1                         0   \n",
       "7319           0                      1                         0   \n",
       "\n",
       "      TEMPORES2_(4.0, 70.0]  CEP2_1.0  CEP2_2.0  PROFISSAO2_1.0  \\\n",
       "7315                      1         1         0               0   \n",
       "7316                      0         1         0               0   \n",
       "7317                      0         1         0               1   \n",
       "7318                      1         1         0               0   \n",
       "7319                      0         1         0               0   \n",
       "\n",
       "      PROFISSAO2_2.0  ANONASCI2_(50.0, 63.0]  ANONASCI2_(63.0, 74.0]  \\\n",
       "7315               1                       0                       1   \n",
       "7316               1                       0                       1   \n",
       "7317               0                       1                       0   \n",
       "7318               0                       0                       1   \n",
       "7319               0                       0                       0   \n",
       "\n",
       "      ANONASCI2_(74.0, 87.0]  \n",
       "7315                       0  \n",
       "7316                       0  \n",
       "7317                       0  \n",
       "7318                       0  \n",
       "7319                       1  "
      ]
     },
     "execution_count": 6,
     "metadata": {},
     "output_type": "execute_result"
    }
   ],
   "source": [
    "dados.tail()"
   ]
  },
  {
   "cell_type": "code",
   "execution_count": 6,
   "id": "e83f5937-0084-45a4-8bfc-050975dfa81a",
   "metadata": {
    "tags": []
   },
   "outputs": [
    {
     "data": {
      "text/plain": [
       "(7320, 20)"
      ]
     },
     "execution_count": 6,
     "metadata": {},
     "output_type": "execute_result"
    }
   ],
   "source": [
    "dados.shape"
   ]
  },
  {
   "cell_type": "code",
   "execution_count": 7,
   "id": "a319c003-c921-4389-9ff4-538b71999605",
   "metadata": {
    "tags": []
   },
   "outputs": [],
   "source": [
    "X_train, X_test, y_train, y_test = train_test_split(dados.iloc[:,1:20], dados['MAU'] , test_size=0.3 , random_state=42)"
   ]
  },
  {
   "cell_type": "code",
   "execution_count": 8,
   "id": "2f6a3801-5ab6-432c-a510-68e99f62b356",
   "metadata": {},
   "outputs": [],
   "source": [
    "# Standardize features\n",
    "scaler = MinMaxScaler()\n",
    "x_train_scaled = scaler.fit_transform(X_train)\n",
    "x_test_scaled = scaler.transform(X_test)\n",
    "\n",
    "# Reshape the data \n",
    "x_train_reshaped = x_train_scaled.reshape(x_train_scaled.shape[0], x_train_scaled.shape[1], 1)\n",
    "x_test_reshaped = x_test_scaled.reshape(x_test_scaled.shape[0], x_test_scaled.shape[1], 1)"
   ]
  },
  {
   "cell_type": "code",
   "execution_count": 415,
   "id": "0f0289e2-5663-45d5-89ab-111640e18c8c",
   "metadata": {
    "tags": []
   },
   "outputs": [],
   "source": [
    "tf.random.set_seed(42)  # Seed TensorFlow random number generator\n",
    "np.random.seed(42) \n",
    "# Define the CNN model\n",
    "model = Sequential()\n",
    "\n",
    "# Add a 1D convolutional layer\n",
    "model.add(Conv1D(filters=64, kernel_size=5, activation='relu', input_shape=(x_train_scaled.shape[1], 1)))\n",
    "\n",
    "# Add a max-pooling layer\n",
    "model.add(MaxPooling1D(pool_size=1))\n",
    "\n",
    "# Flatten the output for the fully connected layers\n",
    "model.add(Flatten())\n",
    "\n",
    "# Add one or more fully connected layers (Dense layers) for classification\n",
    "model.add(Dense(64, activation='relu'))\n",
    "model.add(Dense(1, activation='sigmoid'))"
   ]
  },
  {
   "cell_type": "code",
   "execution_count": 416,
   "id": "3db97d5f-ce11-4ded-96a7-2abdfcae382a",
   "metadata": {
    "tags": []
   },
   "outputs": [
    {
     "name": "stdout",
     "output_type": "stream",
     "text": [
      "Epoch 1/10\n",
      "161/161 [==============================] - 1s 5ms/step - loss: 0.5899 - accuracy: 0.7008 - auc: 0.6435 - val_loss: 0.5676 - val_accuracy: 0.7058 - val_auc: 0.6910\n",
      "Epoch 2/10\n",
      "161/161 [==============================] - 1s 4ms/step - loss: 0.5760 - accuracy: 0.7080 - auc: 0.6760 - val_loss: 0.5714 - val_accuracy: 0.7163 - val_auc: 0.6995\n",
      "Epoch 3/10\n",
      "161/161 [==============================] - 1s 4ms/step - loss: 0.5728 - accuracy: 0.7102 - auc: 0.6816 - val_loss: 0.5602 - val_accuracy: 0.7168 - val_auc: 0.6980\n",
      "Epoch 4/10\n",
      "161/161 [==============================] - 1s 4ms/step - loss: 0.5703 - accuracy: 0.7088 - auc: 0.6863 - val_loss: 0.5563 - val_accuracy: 0.7149 - val_auc: 0.7038\n",
      "Epoch 5/10\n",
      "161/161 [==============================] - 1s 4ms/step - loss: 0.5684 - accuracy: 0.7117 - auc: 0.6893 - val_loss: 0.5539 - val_accuracy: 0.7168 - val_auc: 0.7029\n",
      "Epoch 6/10\n",
      "161/161 [==============================] - 1s 4ms/step - loss: 0.5650 - accuracy: 0.7143 - auc: 0.6946 - val_loss: 0.5579 - val_accuracy: 0.7113 - val_auc: 0.6953\n",
      "Epoch 7/10\n",
      "161/161 [==============================] - 1s 4ms/step - loss: 0.5648 - accuracy: 0.7149 - auc: 0.6954 - val_loss: 0.5551 - val_accuracy: 0.7190 - val_auc: 0.7006\n",
      "Epoch 8/10\n",
      "161/161 [==============================] - 1s 4ms/step - loss: 0.5653 - accuracy: 0.7147 - auc: 0.6949 - val_loss: 0.5568 - val_accuracy: 0.7168 - val_auc: 0.7010\n",
      "Epoch 9/10\n",
      "161/161 [==============================] - 1s 4ms/step - loss: 0.5607 - accuracy: 0.7127 - auc: 0.7026 - val_loss: 0.5569 - val_accuracy: 0.7199 - val_auc: 0.7000\n",
      "Epoch 10/10\n",
      "161/161 [==============================] - 1s 4ms/step - loss: 0.5584 - accuracy: 0.7166 - auc: 0.7075 - val_loss: 0.5561 - val_accuracy: 0.7163 - val_auc: 0.7001\n"
     ]
    },
    {
     "data": {
      "text/plain": [
       "<keras.callbacks.History at 0x18c8eca3a30>"
      ]
     },
     "execution_count": 416,
     "metadata": {},
     "output_type": "execute_result"
    }
   ],
   "source": [
    "# Compile the model\n",
    "model.compile(optimizer='adam', loss='binary_crossentropy', metrics=['accuracy','AUC'])\n",
    "\n",
    "# Train the model\n",
    "model.fit(x_train_reshaped, y_train, epochs=10, batch_size=32, validation_data=(X_test, y_test))"
   ]
  },
  {
   "cell_type": "code",
   "execution_count": 417,
   "id": "60c3cac0-fe51-4130-bc82-690350cfd47c",
   "metadata": {
    "tags": []
   },
   "outputs": [
    {
     "name": "stdout",
     "output_type": "stream",
     "text": [
      "69/69 [==============================] - 0s 695us/step\n"
     ]
    }
   ],
   "source": [
    "predictions = model.predict(x_test_reshaped)"
   ]
  },
  {
   "cell_type": "code",
   "execution_count": 418,
   "id": "bb9dd59f-0db3-4361-b140-40784c24dfe2",
   "metadata": {
    "tags": []
   },
   "outputs": [
    {
     "data": {
      "text/plain": [
       "0.7002588637683353"
      ]
     },
     "execution_count": 418,
     "metadata": {},
     "output_type": "execute_result"
    }
   ],
   "source": [
    "roc_auc_score(y_test,  predictions.reshape(-1))"
   ]
  },
  {
   "cell_type": "code",
   "execution_count": null,
   "id": "a7bd59ce-8a89-4a2f-8c26-e3093fd0a381",
   "metadata": {},
   "outputs": [],
   "source": []
  },
  {
   "cell_type": "code",
   "execution_count": 422,
   "id": "d942fcc8-bb6d-46c4-9bff-963ea0593bb7",
   "metadata": {
    "tags": []
   },
   "outputs": [],
   "source": [
    "y_preds_bin = pd.Series(predictions.reshape(-1)).apply(lambda x: 1 if x> 0.30 else 0)"
   ]
  },
  {
   "cell_type": "code",
   "execution_count": 423,
   "id": "d3cabc15-0e83-4fc8-b1e9-c48da62e2f02",
   "metadata": {
    "tags": []
   },
   "outputs": [
    {
     "data": {
      "text/plain": [
       "0.2902943698805618"
      ]
     },
     "execution_count": 423,
     "metadata": {},
     "output_type": "execute_result"
    }
   ],
   "source": [
    "matthews_corrcoef(y_test,  y_preds_bin )"
   ]
  },
  {
   "cell_type": "code",
   "execution_count": null,
   "id": "5aae4c31-f200-4e1c-b9bc-5de7c98c61d0",
   "metadata": {},
   "outputs": [],
   "source": []
  },
  {
   "cell_type": "code",
   "execution_count": 419,
   "id": "d5af3efa-4d5a-4819-98a4-33995fa20a7b",
   "metadata": {
    "tags": []
   },
   "outputs": [
    {
     "data": {
      "text/plain": [
       "KstestResult(statistic=0.3168775392105402, pvalue=3.9474616684155413e-41, statistic_location=0.30024636, statistic_sign=1)"
      ]
     },
     "execution_count": 419,
     "metadata": {},
     "output_type": "execute_result"
    }
   ],
   "source": [
    "ks_2samp(predictions.reshape(-1)[y_test ==0],predictions.reshape(-1)[y_test ==1])"
   ]
  },
  {
   "cell_type": "code",
   "execution_count": null,
   "id": "f5c45b0a-afc7-48a0-a21e-7e5c97c5b2df",
   "metadata": {},
   "outputs": [],
   "source": []
  },
  {
   "cell_type": "code",
   "execution_count": null,
   "id": "2173c93c-2085-44d8-a696-61ef72a7fdf5",
   "metadata": {},
   "outputs": [],
   "source": []
  },
  {
   "cell_type": "markdown",
   "id": "01e4f8dd-b3ca-44bb-a2fa-52eeb24bbdd3",
   "metadata": {},
   "source": [
    "---\n",
    "## Testando outras funções de perda e fazendo Grid Search."
   ]
  },
  {
   "cell_type": "code",
   "execution_count": 426,
   "id": "e8d6c220-cf32-419f-9c65-c5e366e134ae",
   "metadata": {
    "tags": []
   },
   "outputs": [],
   "source": []
  },
  {
   "cell_type": "code",
   "execution_count": 27,
   "id": "915e9ee6-6984-4a08-844c-09801c7300dc",
   "metadata": {
    "tags": []
   },
   "outputs": [
    {
     "name": "stderr",
     "output_type": "stream",
     "text": [
      "C:\\Users\\herli\\AppData\\Local\\Temp\\ipykernel_1384\\633363203.py:13: DeprecationWarning: KerasClassifier is deprecated, use Sci-Keras (https://github.com/adriangb/scikeras) instead. See https://www.adriangb.com/scikeras/stable/migration.html for help migrating.\n",
      "  cnn = KerasClassifier(build_fn=create_cnn_model, epochs=10, batch_size=32, verbose=0)\n"
     ]
    },
    {
     "name": "stdout",
     "output_type": "stream",
     "text": [
      "Best parameters found:  {'dense_units': 64, 'filters': 128, 'kernel_size': 3, 'pool_size': 2}\n",
      "Best accuracy found:  0.707062304019928\n"
     ]
    }
   ],
   "source": [
    "# Define a function to create a CNN model\n",
    "def create_cnn_model(filters=64, kernel_size=5, pool_size=1, dense_units=64):\n",
    "    model = Sequential()\n",
    "    model.add(Conv1D(filters, kernel_size, activation='relu', input_shape=(x_train_scaled.shape[1], 1)))\n",
    "    model.add(MaxPooling1D(pool_size=pool_size))\n",
    "    model.add(Flatten())\n",
    "    model.add(Dense(dense_units, activation='relu'))\n",
    "    model.add(Dense(1, activation='sigmoid'))\n",
    "    model.compile(optimizer='adam', loss='binary_crossentropy', metrics=['accuracy'])\n",
    "    return model\n",
    "\n",
    "# Create a KerasClassifier with the function and defaults\n",
    "cnn = KerasClassifier(build_fn=create_cnn_model, epochs=10, batch_size=32, verbose=0)\n",
    "\n",
    "# Define the hyperparameters and values to search\n",
    "param_grid = {\n",
    "    'filters': [64, 128],\n",
    "    'kernel_size': [3, 5],\n",
    "    'pool_size': [1, 2],\n",
    "    'dense_units': [64, 128]\n",
    "}\n",
    "\n",
    "# Create a GridSearchCV instance\n",
    "grid_search = GridSearchCV(estimator=cnn, param_grid=param_grid, cv=5)\n",
    "\n",
    "# Fit the grid search to your data\n",
    "grid_search.fit(x_train_reshaped, y_train)\n",
    "\n",
    "# Print the best parameters and their associated score\n",
    "print(\"Best parameters found: \", grid_search.best_params_)\n",
    "print(\"Best accuracy found: \", grid_search.best_score_)"
   ]
  },
  {
   "cell_type": "code",
   "execution_count": 18,
   "id": "575f6940-ea3b-42ef-b063-24b6cfb4aea0",
   "metadata": {
    "tags": []
   },
   "outputs": [
    {
     "data": {
      "text/plain": [
       "{'epochs': 10,\n",
       " 'batch_size': 32,\n",
       " 'verbose': 0,\n",
       " 'dense_units': 64,\n",
       " 'filters': 64,\n",
       " 'kernel_size': 3,\n",
       " 'pool_size': 1,\n",
       " 'build_fn': <function __main__.create_cnn_model(filters=64, kernel_size=5, pool_size=1, dense_units=64)>}"
      ]
     },
     "execution_count": 18,
     "metadata": {},
     "output_type": "execute_result"
    }
   ],
   "source": [
    "grid_search.best_estimator_.predict_proba"
   ]
  },
  {
   "cell_type": "code",
   "execution_count": 31,
   "id": "2c09e805-7bf8-4eaf-9833-fb5f2cbd75d1",
   "metadata": {},
   "outputs": [
    {
     "name": "stdout",
     "output_type": "stream",
     "text": [
      "69/69 [==============================] - 0s 942us/step\n"
     ]
    }
   ],
   "source": [
    "predictions2 = grid_search.best_estimator_.predict_proba(x_test_reshaped)"
   ]
  },
  {
   "cell_type": "code",
   "execution_count": 38,
   "id": "a3fad73e-d408-4a49-8e4d-574069b6d3d7",
   "metadata": {},
   "outputs": [
    {
     "data": {
      "text/plain": [
       "0.6865248410612319"
      ]
     },
     "execution_count": 38,
     "metadata": {},
     "output_type": "execute_result"
    }
   ],
   "source": [
    "roc_auc_score(y_test,  predictions2[:,1])"
   ]
  },
  {
   "cell_type": "code",
   "execution_count": 35,
   "id": "f956997a-c220-4b18-89d9-503845ac20ac",
   "metadata": {
    "tags": []
   },
   "outputs": [
    {
     "data": {
      "text/plain": [
       "array([0.20812996, 0.3836525 , 0.3815777 , ..., 0.26650733, 0.4005829 ,\n",
       "       0.17777367], dtype=float32)"
      ]
     },
     "execution_count": 35,
     "metadata": {},
     "output_type": "execute_result"
    }
   ],
   "source": [
    "predictions2[:,1]"
   ]
  },
  {
   "cell_type": "code",
   "execution_count": null,
   "id": "e5120e6e-c4ca-423d-b820-d52d588537d3",
   "metadata": {},
   "outputs": [],
   "source": []
  }
 ],
 "metadata": {
  "kernelspec": {
   "display_name": "Python 3 (ipykernel)",
   "language": "python",
   "name": "python3"
  },
  "language_info": {
   "codemirror_mode": {
    "name": "ipython",
    "version": 3
   },
   "file_extension": ".py",
   "mimetype": "text/x-python",
   "name": "python",
   "nbconvert_exporter": "python",
   "pygments_lexer": "ipython3",
   "version": "3.9.18"
  }
 },
 "nbformat": 4,
 "nbformat_minor": 5
}
